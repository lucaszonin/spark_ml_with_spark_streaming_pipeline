{
 "cells": [
  {
   "cell_type": "code",
   "execution_count": 35,
   "id": "53a5583f-80a3-4c38-8ab2-0cf43688f261",
   "metadata": {},
   "outputs": [],
   "source": [
    "from pyspark.sql import SparkSession\n",
    "from pyspark.ml import Pipeline, PipelineModel\n",
    "from pyspark.ml.classification import DecisionTreeClassifier, DecisionTreeClassificationModel\n",
    "from pyspark.ml.feature import HashingTF, Tokenizer, OneHotEncoder, StringIndexer, VectorAssembler\n",
    "from pyspark.sql.types import NumericType, StructField, StructType\n",
    "from pyspark.sql.functions import lit\n",
    "\n",
    "\n",
    "spark = SparkSession.builder.getOrCreate()"
   ]
  },
  {
   "cell_type": "code",
   "execution_count": 36,
   "id": "a0d5d55b-5f20-4c02-a886-f21c149c0bce",
   "metadata": {},
   "outputs": [
    {
     "name": "stdout",
     "output_type": "stream",
     "text": [
      "+--------+------+-------------+-------------+-----------+----------+-----------+----------+-----------+\n",
      "| hitType|  page|     clientId|eventCategory|eventAction|eventLabel|  utmSource| utmMedium|utmCampaign|\n",
      "+--------+------+-------------+-------------+-----------+----------+-----------+----------+-----------+\n",
      "|pageview|/teste|cookie('_ga')|         None|       None|      None|str(thread)|str(linha)| Harlem DP6|\n",
      "|pageview|/teste|cookie('_ga')|         None|       None|      None|str(thread)|str(linha)| Harlem DP6|\n",
      "|pageview|/teste|cookie('_ga')|         None|       None|      None|str(thread)|str(linha)| Harlem DP6|\n",
      "|pageview|/teste|cookie('_ga')|         None|       None|      None|str(thread)|str(linha)| Harlem DP6|\n",
      "|pageview|/teste|cookie('_ga')|         None|       None|      None|str(thread)|str(linha)| Harlem DP6|\n",
      "|pageview|/teste|cookie('_ga')|         None|       None|      None|str(thread)|str(linha)| Harlem DP6|\n",
      "|pageview|/teste|cookie('_ga')|         None|       None|      None|str(thread)|str(linha)| Harlem DP6|\n",
      "|pageview|/teste|cookie('_ga')|         None|       None|      None|str(thread)|str(linha)| Harlem DP6|\n",
      "|pageview|/teste|cookie('_ga')|         None|       None|      None|str(thread)|str(linha)| Harlem DP6|\n",
      "|pageview|/teste|cookie('_ga')|         None|       None|      None|str(thread)|str(linha)| Harlem DP6|\n",
      "|pageview|/teste|cookie('_ga')|         None|       None|      None|str(thread)|str(linha)| Harlem DP6|\n",
      "|pageview|/teste|cookie('_ga')|         None|       None|      None|str(thread)|str(linha)| Harlem DP6|\n",
      "|pageview|/teste|cookie('_ga')|         None|       None|      None|str(thread)|str(linha)| Harlem DP6|\n",
      "|pageview|/teste|cookie('_ga')|         None|       None|      None|str(thread)|str(linha)| Harlem DP6|\n",
      "|pageview|/teste|cookie('_ga')|         None|       None|      None|str(thread)|str(linha)| Harlem DP6|\n",
      "|pageview|/teste|cookie('_ga')|         None|       None|      None|str(thread)|str(linha)| Harlem DP6|\n",
      "|pageview|/teste|cookie('_ga')|         None|       None|      None|str(thread)|str(linha)| Harlem DP6|\n",
      "|pageview|/teste|cookie('_ga')|         None|       None|      None|str(thread)|str(linha)| Harlem DP6|\n",
      "|pageview|/teste|cookie('_ga')|         None|       None|      None|str(thread)|str(linha)| Harlem DP6|\n",
      "|pageview|/teste|cookie('_ga')|         None|       None|      None|str(thread)|str(linha)| Harlem DP6|\n",
      "+--------+------+-------------+-------------+-----------+----------+-----------+----------+-----------+\n",
      "only showing top 20 rows\n",
      "\n"
     ]
    }
   ],
   "source": [
    "df = spark.read.options(header='True').csv(\"./base_ga_amostra.csv\")\n",
    "df.show()"
   ]
  },
  {
   "cell_type": "code",
   "execution_count": 37,
   "id": "c69e7761-53af-43ca-996d-db3734a7cb12",
   "metadata": {},
   "outputs": [],
   "source": [
    "indexers = [StringIndexer(inputCol=column, outputCol=column+\"_index\", handleInvalid=\"keep\").fit(df) for column in list(set(df.columns))]\n",
    "assembler = VectorAssembler(\n",
    "    inputCols=['utmMedium_index']#, 'eventLabel_index', 'page_index', 'eventCategory_index', 'clientId_index', 'utmSource_index', 'eventAction_index', 'utmCampaign_index']\n",
    "    ,outputCol='features_index')\n",
    "dt = DecisionTreeClassifier(featuresCol=\"features_index\", labelCol=\"hitType_index\") # REMOVER"
   ]
  },
  {
   "cell_type": "code",
   "execution_count": 38,
   "id": "095bc4d9-c061-4234-a94c-a25f669c5e62",
   "metadata": {},
   "outputs": [],
   "source": [
    "stages = indexers\n",
    "stages.append(assembler)\n",
    "stages.append(dt) #REMOVER\n",
    "pipeline = Pipeline(stages=stages)"
   ]
  },
  {
   "cell_type": "code",
   "execution_count": 39,
   "id": "fbea8437-ad21-499f-88e0-557aa481924e",
   "metadata": {},
   "outputs": [],
   "source": [
    "(train, test) = df.randomSplit([0.8, 0.2])\n",
    "model = pipeline.fit(train)"
   ]
  },
  {
   "cell_type": "code",
   "execution_count": 40,
   "id": "0c84bb57-a5f9-4d58-8e66-c4d86c9c41f7",
   "metadata": {},
   "outputs": [],
   "source": [
    "pred = model.transform(test)"
   ]
  },
  {
   "cell_type": "code",
   "execution_count": 41,
   "id": "7fa2bfc2-82ee-4717-8a98-e90f36f77bdc",
   "metadata": {},
   "outputs": [
    {
     "name": "stdout",
     "output_type": "stream",
     "text": [
      "+--------+-----------+----------+\n",
      "| hitType|probability|prediction|\n",
      "+--------+-----------+----------+\n",
      "|pageview|  [1.0,0.0]|       0.0|\n",
      "|pageview|  [1.0,0.0]|       0.0|\n",
      "|pageview|  [1.0,0.0]|       0.0|\n",
      "|pageview|  [1.0,0.0]|       0.0|\n",
      "|pageview|  [1.0,0.0]|       0.0|\n",
      "|pageview|  [1.0,0.0]|       0.0|\n",
      "|pageview|  [1.0,0.0]|       0.0|\n",
      "|pageview|  [1.0,0.0]|       0.0|\n",
      "|pageview|  [1.0,0.0]|       0.0|\n",
      "|pageview|  [1.0,0.0]|       0.0|\n",
      "|pageview|  [1.0,0.0]|       0.0|\n",
      "|pageview|  [1.0,0.0]|       0.0|\n",
      "|pageview|  [1.0,0.0]|       0.0|\n",
      "|pageview|  [1.0,0.0]|       0.0|\n",
      "|pageview|  [1.0,0.0]|       0.0|\n",
      "|pageview|  [1.0,0.0]|       0.0|\n",
      "|pageview|  [1.0,0.0]|       0.0|\n",
      "|pageview|  [1.0,0.0]|       0.0|\n",
      "|pageview|  [1.0,0.0]|       0.0|\n",
      "|pageview|  [1.0,0.0]|       0.0|\n",
      "+--------+-----------+----------+\n",
      "only showing top 20 rows\n",
      "\n"
     ]
    }
   ],
   "source": [
    "pred.select('hitType', 'probability', 'prediction').show()"
   ]
  },
  {
   "cell_type": "code",
   "execution_count": 42,
   "id": "383c3061-41e2-42e6-a8b9-9b49deb03372",
   "metadata": {},
   "outputs": [],
   "source": [
    "model.write().overwrite().save(\"pipeline_model\")"
   ]
  },
  {
   "cell_type": "code",
   "execution_count": 43,
   "id": "646cd017-9ada-4886-b763-1e0143150016",
   "metadata": {},
   "outputs": [],
   "source": [
    "pipelineModel = PipelineModel.load('./pipeline_model')"
   ]
  },
  {
   "cell_type": "code",
   "execution_count": 44,
   "id": "0978c180-e997-4152-9d4b-ffe8264b4af7",
   "metadata": {},
   "outputs": [
    {
     "name": "stdout",
     "output_type": "stream",
     "text": [
      "+--------+-----------+----------+\n",
      "| hitType|probability|prediction|\n",
      "+--------+-----------+----------+\n",
      "|pageview|  [1.0,0.0]|       0.0|\n",
      "|pageview|  [1.0,0.0]|       0.0|\n",
      "|pageview|  [1.0,0.0]|       0.0|\n",
      "|pageview|  [1.0,0.0]|       0.0|\n",
      "|pageview|  [1.0,0.0]|       0.0|\n",
      "|pageview|  [1.0,0.0]|       0.0|\n",
      "|pageview|  [1.0,0.0]|       0.0|\n",
      "|pageview|  [1.0,0.0]|       0.0|\n",
      "|pageview|  [1.0,0.0]|       0.0|\n",
      "|pageview|  [1.0,0.0]|       0.0|\n",
      "|pageview|  [1.0,0.0]|       0.0|\n",
      "|pageview|  [1.0,0.0]|       0.0|\n",
      "|pageview|  [1.0,0.0]|       0.0|\n",
      "|pageview|  [1.0,0.0]|       0.0|\n",
      "|pageview|  [1.0,0.0]|       0.0|\n",
      "|pageview|  [1.0,0.0]|       0.0|\n",
      "|pageview|  [1.0,0.0]|       0.0|\n",
      "|pageview|  [1.0,0.0]|       0.0|\n",
      "|pageview|  [1.0,0.0]|       0.0|\n",
      "|pageview|  [1.0,0.0]|       0.0|\n",
      "+--------+-----------+----------+\n",
      "only showing top 20 rows\n",
      "\n"
     ]
    }
   ],
   "source": [
    "test_predicted = pipelineModel.transform(test)\n",
    "test_predicted.select('hitType', 'probability', 'prediction').show()"
   ]
  }
 ],
 "metadata": {
  "kernelspec": {
   "display_name": "Python 3 (ipykernel)",
   "language": "python",
   "name": "python3"
  },
  "language_info": {
   "codemirror_mode": {
    "name": "ipython",
    "version": 3
   },
   "file_extension": ".py",
   "mimetype": "text/x-python",
   "name": "python",
   "nbconvert_exporter": "python",
   "pygments_lexer": "ipython3",
   "version": "3.10.6"
  }
 },
 "nbformat": 4,
 "nbformat_minor": 5
}
